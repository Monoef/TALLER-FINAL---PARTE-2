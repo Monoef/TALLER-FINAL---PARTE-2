{
  "nbformat": 4,
  "nbformat_minor": 0,
  "metadata": {
    "colab": {
      "provenance": [],
      "authorship_tag": "ABX9TyP9dPMtfDZbieDHIqVuhF67",
      "include_colab_link": true
    },
    "kernelspec": {
      "name": "python3",
      "display_name": "Python 3"
    },
    "language_info": {
      "name": "python"
    }
  },
  "cells": [
    {
      "cell_type": "markdown",
      "metadata": {
        "id": "view-in-github",
        "colab_type": "text"
      },
      "source": [
        "<a href=\"https://colab.research.google.com/github/Monoef/TALLER-FINAL---PARTE-2/blob/main/TALLER_5_PARTE_2.ipynb\" target=\"_parent\"><img src=\"https://colab.research.google.com/assets/colab-badge.svg\" alt=\"Open In Colab\"/></a>"
      ]
    },
    {
      "cell_type": "markdown",
      "source": [
        "TALLER 5\n",
        "1. ERICK FLOREZ SALGADO - erick.florez@upb.edu.co (ID: 000415292)\n",
        "2. ISAAC VILORIA ARGEL - Isaac.viloria@upb.edu.co (ID: 000523573)\n",
        "3. JOSE TOMAS ARREDONDO CHIMA - Jose.arredondoc@upb.edu.co (000532428)\n",
        "4. ABRAHAM SALAZAR - abraham.salazar@upb.edu.co"
      ],
      "metadata": {
        "id": "UCUb14q2Gn5J"
      }
    },
    {
      "cell_type": "markdown",
      "source": [
        "# ALGORITMO\n",
        "1. Star\n",
        "2. Inicio del Programa\n",
        "3. Verificación de Credenciales\n",
        "4. Verificar si el usuario es \"admin\"\n",
        "5. consultar Si el usuario es \"vendedor\"\n",
        "6. End"
      ],
      "metadata": {
        "id": "HGU7polWHomY"
      }
    },
    {
      "cell_type": "code",
      "source": [
        "# Datos iniciales: Productos y usuarios\n",
        "productos = [\n",
        "    {\"id\": 1, \"nombre\": \"Ladrillo 10x20x30\", \"precio_compra\": 1200, \"precio_venta\": 1500, \"cantidad\": 1000, \"unidad\": \"un\"},\n",
        "    {\"id\": 2, \"nombre\": \"Cemento Gris x50kg\", \"precio_compra\": 28000, \"precio_venta\": 30000, \"cantidad\": 200, \"unidad\": \"saco\"},\n",
        "    {\"id\": 3, \"nombre\": \"Varilla Corrugada #5 x6m\", \"precio_compra\": 33000, \"precio_venta\": 35000, \"cantidad\": 150, \"unidad\": \"un\"},\n",
        "    {\"id\": 4, \"nombre\": \"Impermeabilizante 22kg\", \"precio_compra\": 350000, \"precio_venta\": 360000, \"cantidad\": 50, \"unidad\": \"un\"},\n",
        "    {\"id\": 5, \"nombre\": \"Malla Electro Soldada 6x2.2m\", \"precio_compra\": 42000, \"precio_venta\": 45000, \"cantidad\": 75, \"unidad\": \"un\"}\n",
        "]\n",
        "\n",
        "usuarios = [\n",
        "    {\"id\": 1, \"nombre\": \"Ren Tao\", \"contraseña\": \"1234_4321\", \"rol\": \"admin\"},\n",
        "    {\"id\": 2, \"nombre\": \"Ioh Asakura\", \"contraseña\": \"abc_cba\", \"rol\": \"vendedor\"},\n",
        "    {\"id\": 3, \"nombre\": \"Chocolove McDonnell\", \"contraseña\": \"11110000\", \"rol\": \"vendedor\"}\n",
        "]\n",
        "\n",
        "ventas = []  # Lista para registrar las ventas\n",
        "\n",
        "# Función de inicio de sesión\n",
        "def iniciar_sesion():\n",
        "    nombre = input(\"Ingrese su nombre de usuario: \")\n",
        "    contraseña = input(\"Ingrese su contraseña: \")\n",
        "    for usuario in usuarios:\n",
        "        if usuario[\"nombre\"] == nombre and usuario[\"contraseña\"] == contraseña:\n",
        "            print(f\"Inicio de sesión exitoso. Rol: {usuario['rol']}\")\n",
        "            return usuario\n",
        "    print(\"Credenciales incorrectas.\")\n",
        "    return None\n",
        "\n",
        "# Función para agregar o actualizar productos (admin)\n",
        "def agregar_actualizar_producto():\n",
        "    id_producto = int(input(\"Ingrese el ID del producto: \"))\n",
        "    for producto in productos:\n",
        "        if producto[\"id\"] == id_producto:\n",
        "            cantidad = int(input(\"Ingrese la cantidad para agregar: \"))\n",
        "            producto[\"cantidad\"] += cantidad\n",
        "            print(f\"Producto actualizado. Nueva cantidad de {producto['nombre']}: {producto['cantidad']}\")\n",
        "            return\n",
        "    # Si el producto no existe, agregar uno nuevo\n",
        "    nombre = input(\"Ingrese el nombre del producto: \")\n",
        "    precio_compra = float(input(\"Ingrese el precio de compra: \"))\n",
        "    precio_venta = float(input(\"Ingrese el precio de venta: \"))\n",
        "    cantidad = int(input(\"Ingrese la cantidad inicial: \"))\n",
        "    unidad = input(\"Ingrese la unidad del producto: \")\n",
        "    nuevo_producto = {\"id\": id_producto, \"nombre\": nombre, \"precio_compra\": precio_compra,\n",
        "                      \"precio_venta\": precio_venta, \"cantidad\": cantidad, \"unidad\": unidad}\n",
        "    productos.append(nuevo_producto)\n",
        "    print(f\"Producto {nombre} agregado exitosamente.\")\n",
        "\n",
        "# Función para consultar productos\n",
        "def consultar_producto():\n",
        "    opcion = input(\"¿Desea buscar por código (1) o listar todos los productos (2)? \")\n",
        "    if opcion == \"1\":\n",
        "        id_producto = int(input(\"Ingrese el código del producto: \"))\n",
        "        for producto in productos:\n",
        "            if producto[\"id\"] == id_producto:\n",
        "                print(f\"Producto: {producto['nombre']}, Precio: {producto['precio_venta']}, Cantidad: {producto['cantidad']}\")\n",
        "                return\n",
        "        print(\"Producto no encontrado.\")\n",
        "    elif opcion == \"2\":\n",
        "        for producto in productos:\n",
        "            print(f\"ID: {producto['id']}, Nombre: {producto['nombre']}, Precio: {producto['precio_venta']}, Cantidad: {producto['cantidad']}\")\n",
        "    else:\n",
        "        print(\"Opción inválida.\")\n",
        "\n",
        "# Función para registrar una venta (vendedor)\n",
        "def vender_producto():\n",
        "    id_producto = int(input(\"Ingrese el código del producto a vender: \"))\n",
        "    cantidad = int(input(\"Ingrese la cantidad a vender: \"))\n",
        "    for producto in productos:\n",
        "        if producto[\"id\"] == id_producto:\n",
        "            if producto[\"cantidad\"] >= cantidad:\n",
        "                producto[\"cantidad\"] -= cantidad\n",
        "                total = cantidad * producto[\"precio_venta\"]\n",
        "                ventas.append({\"producto\": producto[\"nombre\"], \"cantidad\": cantidad, \"total\": total})\n",
        "                print(f\"Venta exitosa. Total: ${total:.2f}\")\n",
        "                return\n",
        "            else:\n",
        "                print(\"Cantidad insuficiente en inventario.\")\n",
        "                return\n",
        "    print(\"Producto no encontrado.\")\n",
        "\n",
        "# Función para ver el resumen de ventas (admin)\n",
        "def ver_resumen_ventas():\n",
        "    if len(ventas) == 0:\n",
        "        print(\"No se han registrado ventas.\")\n",
        "    else:\n",
        "        for venta in ventas:\n",
        "            print(f\"Producto: {venta['producto']}, Cantidad: {venta['cantidad']}, Total generado: ${venta['total']:.2f}\")\n",
        "\n",
        "# Función principal\n",
        "def main():\n",
        "    usuario_actual = iniciar_sesion()\n",
        "    if not usuario_actual:\n",
        "        return\n",
        "\n",
        "    if usuario_actual[\"rol\"] == \"admin\":\n",
        "        while True:\n",
        "            print(\"\\nOpciones disponibles para admin:\")\n",
        "            print(\"1. Agregar o actualizar productos\")\n",
        "            print(\"2. Consultar productos\")\n",
        "            print(\"3. Comprar productos para la tienda\")\n",
        "            print(\"4. Ver resumen de ventas\")\n",
        "            print(\"5. Salir\")\n",
        "            opcion = input(\"Seleccione una opción: \")\n",
        "\n",
        "            if opcion == \"1\":\n",
        "                agregar_actualizar_producto()\n",
        "            elif opcion == \"2\":\n",
        "                consultar_producto()\n",
        "            elif opcion == \"3\":\n",
        "                agregar_actualizar_producto()\n",
        "            elif opcion == \"4\":\n",
        "                ver_resumen_ventas()\n",
        "            elif opcion == \"5\":\n",
        "                print(\"Cerrando sesión...\")\n",
        "                break\n",
        "            else:\n",
        "                print(\"Opción inválida.\")\n",
        "\n",
        "    elif usuario_actual[\"rol\"] == \"vendedor\":\n",
        "        while True:\n",
        "            print(\"\\nOpciones disponibles para vendedor:\")\n",
        "            print(\"1. Consultar productos\")\n",
        "            print(\"2. Vender productos\")\n",
        "            print(\"3. Salir\")\n",
        "            opcion = input(\"Seleccione una opción: \")\n",
        "\n",
        "            if opcion == \"1\":\n",
        "                consultar_producto()\n",
        "            elif opcion == \"2\":\n",
        "                vender_producto()\n",
        "            elif opcion == \"3\":\n",
        "                print(\"Cerrando sesión...\")\n",
        "                break\n",
        "            else:\n",
        "                print(\"Opción inválida.\")\n",
        "\n",
        "# Ejecutar el programa\n",
        "if __name__ == \"__main__\":\n",
        "    main()\n"
      ],
      "metadata": {
        "colab": {
          "base_uri": "https://localhost:8080/"
        },
        "id": "FmTVHRr0JWwQ",
        "outputId": "34c5f38a-2859-4bee-e3e2-98c84fd86653"
      },
      "execution_count": null,
      "outputs": [
        {
          "output_type": "stream",
          "name": "stdout",
          "text": [
            "Ingrese su nombre de usuario: UPBBBB\n",
            "Ingrese su contraseña: 0000\n",
            "Credenciales incorrectas.\n"
          ]
        }
      ]
    },
    {
      "cell_type": "code",
      "source": [],
      "metadata": {
        "id": "SAzF5Me_JkHt"
      },
      "execution_count": null,
      "outputs": []
    }
  ]
}